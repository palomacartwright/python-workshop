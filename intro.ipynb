{
 "cells": [
  {
   "cell_type": "markdown",
   "id": "d88ec920-8838-4975-87b5-8964e9d900ce",
   "metadata": {},
   "source": [
    "# Intro to Python Workshop "
   ]
  },
  {
   "cell_type": "code",
   "execution_count": 1,
   "id": "bc64a3d2-dfd6-4b87-b990-fc9dd2b4cfe8",
   "metadata": {},
   "outputs": [],
   "source": [
    "x = 5 "
   ]
  },
  {
   "cell_type": "code",
   "execution_count": 4,
   "id": "e3300850-16ce-4889-af7c-a6b4eb9dacc3",
   "metadata": {},
   "outputs": [
    {
     "data": {
      "text/plain": [
       "5"
      ]
     },
     "execution_count": 4,
     "metadata": {},
     "output_type": "execute_result"
    }
   ],
   "source": [
    "x"
   ]
  },
  {
   "cell_type": "markdown",
   "id": "d368e71a-8ad0-4386-9875-d39fbae05b92",
   "metadata": {},
   "source": [
    "## Lists"
   ]
  },
  {
   "cell_type": "code",
   "execution_count": 25,
   "id": "1ad23c6e-0e55-460a-982d-588f9107856f",
   "metadata": {},
   "outputs": [],
   "source": [
    "nums = [2, 3, 4, 5, 6]"
   ]
  },
  {
   "cell_type": "code",
   "execution_count": 26,
   "id": "e14501e9-9553-4679-9cc5-78523e43d9e2",
   "metadata": {},
   "outputs": [],
   "source": [
    "mishmash = [3.14, False, [1, 2, 3], 'blarf']"
   ]
  },
  {
   "cell_type": "markdown",
   "id": "d929f313-bced-46a5-8c53-6b8d2336e520",
   "metadata": {},
   "source": [
    "Indexing is 0-based in python "
   ]
  },
  {
   "cell_type": "code",
   "execution_count": 27,
   "id": "d4a6f7a5-f3c1-4b9b-bb0d-2cdad22453e6",
   "metadata": {},
   "outputs": [
    {
     "data": {
      "text/plain": [
       "2"
      ]
     },
     "execution_count": 27,
     "metadata": {},
     "output_type": "execute_result"
    }
   ],
   "source": [
    "nums[0]"
   ]
  },
  {
   "cell_type": "code",
   "execution_count": 28,
   "id": "52a6d1ef-abed-4c88-bf88-e45772489053",
   "metadata": {},
   "outputs": [
    {
     "data": {
      "text/plain": [
       "2"
      ]
     },
     "execution_count": 28,
     "metadata": {},
     "output_type": "execute_result"
    }
   ],
   "source": [
    "mishmash[2][1]"
   ]
  },
  {
   "cell_type": "code",
   "execution_count": 29,
   "id": "0fd1bae1-c17f-47c6-84f5-55142d6eee89",
   "metadata": {},
   "outputs": [
    {
     "data": {
      "text/plain": [
       "'f'"
      ]
     },
     "execution_count": 29,
     "metadata": {},
     "output_type": "execute_result"
    }
   ],
   "source": [
    "mishmash[3][4]"
   ]
  },
  {
   "cell_type": "markdown",
   "id": "da92242c-58f7-463e-a49c-e4b4fee6bd4b",
   "metadata": {},
   "source": [
    "## Dictionaries"
   ]
  },
  {
   "cell_type": "code",
   "execution_count": 30,
   "id": "b7121288-2fc3-4881-b2cb-840fba7184ae",
   "metadata": {},
   "outputs": [],
   "source": [
    "translation = {\n",
    "    \"one\": \"uno\", \n",
    "    \"two\": \"dos\", \n",
    "    \"three\": \"tres\"\n",
    "}"
   ]
  },
  {
   "cell_type": "code",
   "execution_count": 31,
   "id": "552d6b09-8c73-48bb-93ee-5f2236c6bfaf",
   "metadata": {},
   "outputs": [
    {
     "data": {
      "text/plain": [
       "'dos'"
      ]
     },
     "execution_count": 31,
     "metadata": {},
     "output_type": "execute_result"
    }
   ],
   "source": [
    "translation['two']"
   ]
  },
  {
   "cell_type": "code",
   "execution_count": 32,
   "id": "54f2bd19-1dc5-46fe-80e7-99be54cd2ce6",
   "metadata": {},
   "outputs": [
    {
     "ename": "KeyError",
     "evalue": "0",
     "output_type": "error",
     "traceback": [
      "\u001b[0;31m---------------------------------------------------------------------------\u001b[0m",
      "\u001b[0;31mKeyError\u001b[0m                                  Traceback (most recent call last)",
      "\u001b[0;32m<ipython-input-32-abe90bad7bf0>\u001b[0m in \u001b[0;36m<module>\u001b[0;34m\u001b[0m\n\u001b[0;32m----> 1\u001b[0;31m \u001b[0mtranslation\u001b[0m\u001b[0;34m[\u001b[0m\u001b[0;36m0\u001b[0m\u001b[0;34m]\u001b[0m\u001b[0;34m\u001b[0m\u001b[0;34m\u001b[0m\u001b[0m\n\u001b[0m",
      "\u001b[0;31mKeyError\u001b[0m: 0"
     ]
    }
   ],
   "source": [
    "translation[0] "
   ]
  },
  {
   "cell_type": "markdown",
   "id": "d0f15046-21b7-4856-9fd6-c6bdbe1e7e96",
   "metadata": {},
   "source": [
    "You cannot index into dictionaries. Because they are just a mapping, they can only look up keys. "
   ]
  },
  {
   "cell_type": "code",
   "execution_count": 33,
   "id": "1e0e1c32-979e-4890-bdb8-878169472b0c",
   "metadata": {},
   "outputs": [],
   "source": [
    "translation[\"four\"] = \"cuatro\""
   ]
  },
  {
   "cell_type": "code",
   "execution_count": 34,
   "id": "34cf6592-5ca2-4dcd-8523-c35172d2fb78",
   "metadata": {},
   "outputs": [
    {
     "data": {
      "text/plain": [
       "dict_keys(['one', 'two', 'three', 'four'])"
      ]
     },
     "execution_count": 34,
     "metadata": {},
     "output_type": "execute_result"
    }
   ],
   "source": [
    "translation.keys()"
   ]
  },
  {
   "cell_type": "code",
   "execution_count": 35,
   "id": "8b91d729-a341-427d-b029-c2d11205c1c4",
   "metadata": {},
   "outputs": [
    {
     "data": {
      "text/plain": [
       "dict_values(['uno', 'dos', 'tres', 'cuatro'])"
      ]
     },
     "execution_count": 35,
     "metadata": {},
     "output_type": "execute_result"
    }
   ],
   "source": [
    "translation.values()"
   ]
  },
  {
   "cell_type": "markdown",
   "id": "e19714a9-95d1-4bc1-ad91-e0a7d7cedcba",
   "metadata": {},
   "source": [
    "## Tuples - like a list but immutable"
   ]
  },
  {
   "cell_type": "code",
   "execution_count": 36,
   "id": "a564233d-2006-4451-a6e9-26be6263e1cc",
   "metadata": {},
   "outputs": [],
   "source": [
    "nums = [2, 4, 6, 8]"
   ]
  },
  {
   "cell_type": "code",
   "execution_count": 37,
   "id": "c15c1c63-ee50-4710-8c74-67cd49d6dc3f",
   "metadata": {},
   "outputs": [],
   "source": [
    "nums_tuple = (2, 4, 6, 8)"
   ]
  },
  {
   "cell_type": "code",
   "execution_count": 38,
   "id": "51bb7d7b-62aa-48fa-90ee-ed7cbda8788f",
   "metadata": {},
   "outputs": [
    {
     "data": {
      "text/plain": [
       "4"
      ]
     },
     "execution_count": 38,
     "metadata": {},
     "output_type": "execute_result"
    }
   ],
   "source": [
    "nums_tuple[1]"
   ]
  },
  {
   "cell_type": "markdown",
   "id": "335c9810-f1f4-4140-b510-3ccb11c6f2e7",
   "metadata": {},
   "source": [
    "Lists are mutable (they can be modified), tuples can't. In some cases, Python requires immutable values. Lists are square brackets, and tuples are round brackets. "
   ]
  },
  {
   "cell_type": "code",
   "execution_count": 39,
   "id": "f6abf2d2-d084-4a0a-9e14-bed222f4ef69",
   "metadata": {},
   "outputs": [],
   "source": [
    "nums[2] = 3"
   ]
  },
  {
   "cell_type": "code",
   "execution_count": 40,
   "id": "5f5b4825-74e7-4d18-b394-53b08191dc2f",
   "metadata": {},
   "outputs": [
    {
     "data": {
      "text/plain": [
       "[2, 4, 3, 8]"
      ]
     },
     "execution_count": 40,
     "metadata": {},
     "output_type": "execute_result"
    }
   ],
   "source": [
    "nums"
   ]
  },
  {
   "cell_type": "code",
   "execution_count": 41,
   "id": "718d7962-1c08-4823-b023-94e06f29a553",
   "metadata": {},
   "outputs": [
    {
     "ename": "TypeError",
     "evalue": "'tuple' object does not support item assignment",
     "output_type": "error",
     "traceback": [
      "\u001b[0;31m---------------------------------------------------------------------------\u001b[0m",
      "\u001b[0;31mTypeError\u001b[0m                                 Traceback (most recent call last)",
      "\u001b[0;32m<ipython-input-41-14ff12d5eb50>\u001b[0m in \u001b[0;36m<module>\u001b[0;34m\u001b[0m\n\u001b[0;32m----> 1\u001b[0;31m \u001b[0mnums_tuple\u001b[0m\u001b[0;34m[\u001b[0m\u001b[0;36m2\u001b[0m\u001b[0;34m]\u001b[0m \u001b[0;34m=\u001b[0m \u001b[0;36m3\u001b[0m\u001b[0;34m\u001b[0m\u001b[0;34m\u001b[0m\u001b[0m\n\u001b[0m",
      "\u001b[0;31mTypeError\u001b[0m: 'tuple' object does not support item assignment"
     ]
    }
   ],
   "source": [
    "nums_tuple[2] = 3"
   ]
  },
  {
   "cell_type": "markdown",
   "id": "e88cd12a-a2b1-4725-92ae-0a531e2e0b69",
   "metadata": {},
   "source": [
    "## Functions"
   ]
  },
  {
   "cell_type": "code",
   "execution_count": 42,
   "id": "2b45e38a-c243-4140-a640-00d167626081",
   "metadata": {},
   "outputs": [
    {
     "data": {
      "text/plain": [
       "8"
      ]
     },
     "execution_count": 42,
     "metadata": {},
     "output_type": "execute_result"
    }
   ],
   "source": [
    "def myfunction(a, b):\n",
    "    return 3*a + 2 *b \n",
    "\n",
    "myfunction(2, 1)"
   ]
  },
  {
   "cell_type": "code",
   "execution_count": 43,
   "id": "a657ed05-5b2a-4030-af6d-6d7a714ff8c9",
   "metadata": {},
   "outputs": [
    {
     "name": "stdout",
     "output_type": "stream",
     "text": [
      "not in function\n",
      "starting function\n",
      "result is 8\n",
      "Still in function\n"
     ]
    }
   ],
   "source": [
    "def my_function(a, b):\n",
    "    print(\"starting function\")\n",
    "    print(\"result is\", 3*a + 2*b)\n",
    "    print(\"Still in function\")\n",
    "print(\"not in function\")\n",
    "my_function(2, 1)"
   ]
  },
  {
   "cell_type": "markdown",
   "id": "da9d458f-e701-4a99-807a-b12066685b2d",
   "metadata": {},
   "source": [
    "Python is picky about indentation - must be consistent"
   ]
  },
  {
   "cell_type": "code",
   "execution_count": 44,
   "id": "6234b94f-11e6-44b6-b84f-a9546b94ae14",
   "metadata": {},
   "outputs": [
    {
     "ename": "IndentationError",
     "evalue": "unexpected indent (<ipython-input-44-8c3e948a1ba0>, line 3)",
     "output_type": "error",
     "traceback": [
      "\u001b[0;36m  File \u001b[0;32m\"<ipython-input-44-8c3e948a1ba0>\"\u001b[0;36m, line \u001b[0;32m3\u001b[0m\n\u001b[0;31m    return result\u001b[0m\n\u001b[0m    ^\u001b[0m\n\u001b[0;31mIndentationError\u001b[0m\u001b[0;31m:\u001b[0m unexpected indent\n"
     ]
    }
   ],
   "source": [
    "def my_function(a, b):\n",
    "    result = 3*a + 2 * b \n",
    "        return result "
   ]
  },
  {
   "cell_type": "markdown",
   "id": "c02b33c4-c2e0-4e95-b35c-7d9ef2255069",
   "metadata": {},
   "source": [
    "Continuation lines in Python are tricky "
   ]
  },
  {
   "cell_type": "code",
   "execution_count": 45,
   "id": "d4332615-a91e-4410-ab5d-3f787793601b",
   "metadata": {},
   "outputs": [],
   "source": [
    "translation = {\n",
    "    \"one\" : \"uno\",\n",
    "    \"two\" : \"dos\"\n",
    "}"
   ]
  },
  {
   "cell_type": "code",
   "execution_count": 46,
   "id": "0bcbee98-7d4c-4eda-bed4-538d87b57a97",
   "metadata": {},
   "outputs": [
    {
     "ename": "SyntaxError",
     "evalue": "invalid syntax (<ipython-input-46-fb6406e06657>, line 1)",
     "output_type": "error",
     "traceback": [
      "\u001b[0;36m  File \u001b[0;32m\"<ipython-input-46-fb6406e06657>\"\u001b[0;36m, line \u001b[0;32m1\u001b[0m\n\u001b[0;31m    x = 3 +\u001b[0m\n\u001b[0m            ^\u001b[0m\n\u001b[0;31mSyntaxError\u001b[0m\u001b[0;31m:\u001b[0m invalid syntax\n"
     ]
    }
   ],
   "source": [
    "x = 3 + \n",
    "    5"
   ]
  },
  {
   "cell_type": "code",
   "execution_count": 47,
   "id": "9cd7df17-4311-4404-abae-700f0abd5d35",
   "metadata": {},
   "outputs": [],
   "source": [
    "x = (3 + \n",
    "    5)"
   ]
  },
  {
   "cell_type": "code",
   "execution_count": 48,
   "id": "ced6fa60-d0a1-499c-9f60-66f369a202a3",
   "metadata": {},
   "outputs": [
    {
     "data": {
      "text/plain": [
       "8"
      ]
     },
     "execution_count": 48,
     "metadata": {},
     "output_type": "execute_result"
    }
   ],
   "source": [
    "x"
   ]
  },
  {
   "cell_type": "markdown",
   "id": "c29c101e-9158-46d6-a8d3-444f89c48bff",
   "metadata": {},
   "source": [
    "Making a dictionary without using the colon syntax"
   ]
  },
  {
   "cell_type": "code",
   "execution_count": 49,
   "id": "8faa2101-8ef0-4999-a86a-7946d9ebb9ca",
   "metadata": {},
   "outputs": [],
   "source": [
    "phone_nums = {}\n",
    "phone_nums[\"greg\"] = \"555-5555\"\n",
    "phone_nums[\"amanda\"] = \"111-1111\""
   ]
  },
  {
   "cell_type": "code",
   "execution_count": 50,
   "id": "5e6c6803-3301-4b67-bf21-33a0815d03ca",
   "metadata": {},
   "outputs": [
    {
     "data": {
      "text/plain": [
       "dict_keys(['greg', 'amanda'])"
      ]
     },
     "execution_count": 50,
     "metadata": {},
     "output_type": "execute_result"
    }
   ],
   "source": [
    "phone_nums.keys()"
   ]
  },
  {
   "cell_type": "code",
   "execution_count": 51,
   "id": "6a9d9479-9ab6-4140-8a3c-c89b70176d59",
   "metadata": {},
   "outputs": [
    {
     "data": {
      "text/plain": [
       "dict_values(['555-5555', '111-1111'])"
      ]
     },
     "execution_count": 51,
     "metadata": {},
     "output_type": "execute_result"
    }
   ],
   "source": [
    "phone_nums.values()"
   ]
  },
  {
   "cell_type": "code",
   "execution_count": 52,
   "id": "003df57b-3da6-49ab-ac88-b5840e1e261d",
   "metadata": {},
   "outputs": [
    {
     "data": {
      "text/plain": [
       "dict_items([('greg', '555-5555'), ('amanda', '111-1111')])"
      ]
     },
     "execution_count": 52,
     "metadata": {},
     "output_type": "execute_result"
    }
   ],
   "source": [
    "phone_nums.items()"
   ]
  },
  {
   "cell_type": "code",
   "execution_count": 53,
   "id": "a99c4039-2b32-49a5-ae75-6e5655f122c4",
   "metadata": {},
   "outputs": [
    {
     "name": "stdout",
     "output_type": "stream",
     "text": [
      "greg has phone number 555-5555\n",
      "amanda has phone number 111-1111\n"
     ]
    }
   ],
   "source": [
    "for key, value in phone_nums.items():\n",
    "    print(key, \"has phone number\", value)"
   ]
  },
  {
   "cell_type": "code",
   "execution_count": null,
   "id": "878dc1be-77bb-4055-ad8a-b054eb462f16",
   "metadata": {},
   "outputs": [],
   "source": []
  }
 ],
 "metadata": {
  "kernelspec": {
   "display_name": "Python 3",
   "language": "python",
   "name": "python3"
  },
  "language_info": {
   "codemirror_mode": {
    "name": "ipython",
    "version": 3
   },
   "file_extension": ".py",
   "mimetype": "text/x-python",
   "name": "python",
   "nbconvert_exporter": "python",
   "pygments_lexer": "ipython3",
   "version": "3.8.8"
  }
 },
 "nbformat": 4,
 "nbformat_minor": 5
}
